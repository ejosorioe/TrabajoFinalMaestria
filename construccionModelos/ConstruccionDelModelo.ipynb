{
 "cells": [
  {
   "cell_type": "markdown",
   "metadata": {},
   "source": [
    "# Seleccción y construcción del modelo"
   ]
  },
  {
   "cell_type": "markdown",
   "metadata": {},
   "source": [
    "En este libro, se muestra el procedimiento para realizar el preprocesamiento de los datos, la selección de los parámetros, el clasificador a utilizar y su evaluación. A continuación, se presentan las librerías necesarias para correr los bloques de código, es importante que se trabaje sobre Python 2.7 por temas de soporte y compatibilidad con algunas de las librerías."
   ]
  },
  {
   "cell_type": "code",
   "execution_count": 1,
   "metadata": {},
   "outputs": [],
   "source": [
    "import pandas as pd\n",
    "import unidecode, re, string, dill\n",
    "\n",
    "from wordcloud import WordCloud\n",
    "from nltk import word_tokenize \n",
    "from nltk.stem.snowball import SnowballStemmer\n",
    "\n",
    "from sklearn.metrics import classification_report, accuracy_score, confusion_matrix\n",
    "from sklearn.feature_extraction.text import CountVectorizer, TfidfTransformer\n",
    "from sklearn.model_selection import GridSearchCV, train_test_split\n",
    "from sklearn.ensemble import RandomForestClassifier\n",
    "from sklearn.naive_bayes import MultinomialNB\n",
    "from sklearn.svm import SVC, LinearSVC\n",
    "from sklearn.pipeline import Pipeline\n"
   ]
  },
  {
   "cell_type": "markdown",
   "metadata": {},
   "source": [
    "## 1. Lectura de los datos de entrenamiento"
   ]
  },
  {
   "cell_type": "markdown",
   "metadata": {},
   "source": [
    "Los datos de entrenamiento se cargan desde un archivo CSV, donde la primera columna es una etiqueta que indica si el mensaje dado esta relacionado con temáticas del SIATA o no y la segunda columna es el mensaje en sí.\n",
    "\n",
    "Usando estos ejemplos de siata / nosiata, se entrena un modelo de aprendizaje automático para discriminar los mensajes relacionados con las tematicas del SIATA y los que no. Luego, con este modelo se podran clasificar mensajes arbitrarios no etiquetados."
   ]
  },
  {
   "cell_type": "code",
   "execution_count": 2,
   "metadata": {},
   "outputs": [],
   "source": [
    "data = pd.read_csv('datos/entrenamiento.csv')\n",
    "data = data.sample(frac=1)"
   ]
  },
  {
   "cell_type": "markdown",
   "metadata": {},
   "source": [
    "### Análisis exploratorio de los datos de entrenamiento"
   ]
  },
  {
   "cell_type": "markdown",
   "metadata": {},
   "source": [
    "El set de entrenamiento consta de 1000 mensajes, de los cuales 500 fueron etiquetados como siata ya que se encuentran asociados a temáticas del proyecto, los otros 500 corresponden a temáticas generales que no se relacionan con el SIATA."
   ]
  },
  {
   "cell_type": "code",
   "execution_count": 3,
   "metadata": {},
   "outputs": [
    {
     "data": {
      "text/html": [
       "<div>\n",
       "<table border=\"1\" class=\"dataframe\">\n",
       "  <thead>\n",
       "    <tr style=\"text-align: right;\">\n",
       "      <th></th>\n",
       "      <th></th>\n",
       "      <th>text</th>\n",
       "    </tr>\n",
       "    <tr>\n",
       "      <th>label</th>\n",
       "      <th></th>\n",
       "      <th></th>\n",
       "    </tr>\n",
       "  </thead>\n",
       "  <tbody>\n",
       "    <tr>\n",
       "      <th rowspan=\"4\" valign=\"top\">nosiata</th>\n",
       "      <th>count</th>\n",
       "      <td>500</td>\n",
       "    </tr>\n",
       "    <tr>\n",
       "      <th>unique</th>\n",
       "      <td>500</td>\n",
       "    </tr>\n",
       "    <tr>\n",
       "      <th>top</th>\n",
       "      <td>#NoticiasTM ((Al aire)) Desde hoy se dio inici...</td>\n",
       "    </tr>\n",
       "    <tr>\n",
       "      <th>freq</th>\n",
       "      <td>1</td>\n",
       "    </tr>\n",
       "    <tr>\n",
       "      <th rowspan=\"4\" valign=\"top\">siata</th>\n",
       "      <th>count</th>\n",
       "      <td>500</td>\n",
       "    </tr>\n",
       "    <tr>\n",
       "      <th>unique</th>\n",
       "      <td>500</td>\n",
       "    </tr>\n",
       "    <tr>\n",
       "      <th>top</th>\n",
       "      <td>4. En medición de ##CalidadDelAire Material Pa...</td>\n",
       "    </tr>\n",
       "    <tr>\n",
       "      <th>freq</th>\n",
       "      <td>1</td>\n",
       "    </tr>\n",
       "  </tbody>\n",
       "</table>\n",
       "</div>"
      ],
      "text/plain": [
       "                                                             text\n",
       "label                                                            \n",
       "nosiata count                                                 500\n",
       "        unique                                                500\n",
       "        top     #NoticiasTM ((Al aire)) Desde hoy se dio inici...\n",
       "        freq                                                    1\n",
       "siata   count                                                 500\n",
       "        unique                                                500\n",
       "        top     4. En medición de ##CalidadDelAire Material Pa...\n",
       "        freq                                                    1"
      ]
     },
     "execution_count": 3,
     "metadata": {},
     "output_type": "execute_result"
    }
   ],
   "source": [
    "data.groupby('label').describe()"
   ]
  },
  {
   "cell_type": "markdown",
   "metadata": {},
   "source": [
    "Se verifica que los tweets seleccionados para el conjunto de entrenamiento sean validos, es decir, que tengan una longitud superior a cero."
   ]
  },
  {
   "cell_type": "code",
   "execution_count": 4,
   "metadata": {},
   "outputs": [
    {
     "name": "stdout",
     "output_type": "stream",
     "text": [
      "       label                                               text  length\n",
      "927    siata  @siatamedellin @ParqueExplora @Areametropol  q...     115\n",
      "990  nosiata  Esta hablando de el mismo viola personas secue...     136\n",
      "467  nosiata      @egolaxista_ Controle su facsismo idiomático.      46\n",
      "996  nosiata  Pa que vean pues como es que va la vaina prepa...     119\n",
      "542    siata  Esta lluvia a esta hora sólo provoca que me es...     123\n",
      "313  nosiata  Buenas yo lo sentí en el sexto piso en el barr...     146\n",
      "620    siata                Por fín me doy cuenta de un Temblor      36\n",
      "214  nosiata  Flores de guayacán (cañaguate para nuestros co...      95\n",
      "65     siata  El agua es lo que le da valor a la tierra.  En...     141\n",
      "445  nosiata  QUE SERÁ LO QUE QUIERE @CMILANOTICIA Y SU prog...     133\n"
     ]
    }
   ],
   "source": [
    "data['length'] = data['text'].map(lambda text: len(text))\n",
    "print data.head(10)"
   ]
  },
  {
   "cell_type": "code",
   "execution_count": 6,
   "metadata": {},
   "outputs": [
    {
     "data": {
      "text/plain": [
       "<matplotlib.axes._subplots.AxesSubplot at 0x7f21c7616b50>"
      ]
     },
     "execution_count": 6,
     "metadata": {},
     "output_type": "execute_result"
    },
    {
     "data": {
      "image/png": "[encoded data removed]",
      "text/plain": [
       "<matplotlib.figure.Figure at 0x7f21c7604e10>"
      ]
     },
     "metadata": {},
     "output_type": "display_data"
    }
   ],
   "source": [
    "data.length.plot(bins=20, kind='hist')"
   ]
  },
  {
   "cell_type": "code",
   "execution_count": 7,
   "metadata": {},
   "outputs": [
    {
     "data": {
      "text/plain": [
       "count    1000.000000\n",
       "mean       99.825000\n",
       "std        39.612391\n",
       "min        11.000000\n",
       "25%        67.000000\n",
       "50%       108.000000\n",
       "75%       138.000000\n",
       "max       237.000000\n",
       "Name: length, dtype: float64"
      ]
     },
     "execution_count": 7,
     "metadata": {},
     "output_type": "execute_result"
    }
   ],
   "source": [
    "data.length.describe()"
   ]
  },
  {
   "cell_type": "code",
   "execution_count": 9,
   "metadata": {},
   "outputs": [
    {
     "data": {
      "image/png": "[encoded data removed]",
      "text/plain": [
       "<matplotlib.figure.Figure at 0x7ffa154f56d0>"
      ]
     },
     "metadata": {},
     "output_type": "display_data"
    }
   ],
   "source": [
    "histData = data.hist(column='length', by='label', bins=30)"
   ]
  },
  {
   "cell_type": "markdown",
   "metadata": {},
   "source": [
    "En el eje X puede verse la longitud del mensaje y en el Y la frecuencia con la que se presenta esa longitud"
   ]
  },
  {
   "cell_type": "markdown",
   "metadata": {},
   "source": [
    "## 2. Preprocesamiento de los datos"
   ]
  },
  {
   "cell_type": "markdown",
   "metadata": {},
   "source": [
    "Los datos a utilizar en el análisis son de tipo texto, por lo que se deben depurar las cadenas de caracteres que no aportan información al estudio. Se tomó como base la preparación y limpieza de texto detallada en el artículo \"A Sentiment Analysis System of Spanish Tweets and Its Application in Colombia 2014 Presidential Election\". A continuación, se listan los pasos seguidos para realizar la limpieza:\n",
    "\n",
    "1. Eliminación de direcciones URL.\n",
    "2. Eliminación de emojis, reconociéndolos con expresiones regulares.\n",
    "3. Eliminación de signos de puntuación.\n",
    "4. Eliminación de acentos (tildes, virgulillas, diéresis, etc.).\n",
    "5. Eliminación de números.\n",
    "6. Los caracteres desconocidos se asignan a su variante ASCII más cercana, utilizando el módulo Python Unidecode.\n",
    "7. Se cambian las letras mayúsculas por minúsculas.\n",
    "8. Se aplica una función de tokenización que se encarga de descomponer los comentarios en sus unidades mínimas.\n",
    "9. Se aplica una función de steamming usando el modulo NLTK para reducir las palabras a su raiz.\n"
   ]
  },
  {
   "cell_type": "code",
   "execution_count": 8,
   "metadata": {},
   "outputs": [],
   "source": [
    "emoji_pattern = re.compile(\"[\"\n",
    "                           u\"\\U0001F600-\\U0001F64F\"  # emoticones\n",
    "                           u\"\\U0001F300-\\U0001F5FF\"  # símbolos y pictografías\n",
    "                           u\"\\U0001F680-\\U0001F6FF\"  # símbolos de transporte y mapa\n",
    "                           u\"\\U0001F1E0-\\U0001F1FF\"  # banderas (iOS)\n",
    "                           u\"\\U00002702-\\U000027B0\"\n",
    "                           u\"\\U000024C2-\\U0001F251\"\n",
    "                           \"]+\", flags=re.UNICODE)\n",
    "                           \n",
    "emoji_pattern2 = re.compile(u\"[^\\U00000000-\\U0000d7ff\\U0000e000-\\U0000ffff]\", flags=re.UNICODE)                           \n",
    "emoji_pattern3 = re.compile(u\"\\u2026\", flags=re.UNICODE) # caracter tres puntos                 \n",
    "\n",
    "stemmer = SnowballStemmer(\"spanish\")"
   ]
  },
  {
   "cell_type": "code",
   "execution_count": 9,
   "metadata": {},
   "outputs": [],
   "source": [
    "def prepararTweetStemmer(mensaje):\n",
    "    mensaje = re.sub(r\"http\\S+\", \"\", mensaje)\n",
    "    mensaje = re.sub(r\"[0-9]\\S+\", \"\", mensaje)\n",
    "    mensaje = re.sub(emoji_pattern, \"\", mensaje)\n",
    "    mensaje = re.sub(emoji_pattern2, \"\", mensaje)\n",
    "    mensaje = re.sub(emoji_pattern3, \"\", mensaje)\n",
    "    mensaje = re.sub('[%s]' % re.escape(string.punctuation), \"\", mensaje)\n",
    "    mensaje = re.sub(r\"¡|¿+\", \"\", mensaje)\n",
    "    mensaje = unicode(mensaje, 'utf8').lower()\n",
    "    word_tokens = word_tokenize(mensaje)\n",
    "    \n",
    "    filtered_sentence = []\n",
    "    filtered_sentence = [unidecode.unidecode(stemmer.stem(w)) for w in word_tokens]\n",
    "    \n",
    "    return filtered_sentence"
   ]
  },
  {
   "cell_type": "code",
   "execution_count": 10,
   "metadata": {},
   "outputs": [],
   "source": [
    "def prepararTweet(mensaje):\n",
    "    mensaje = re.sub(r\"http\\S+\", \"\", mensaje)\n",
    "    mensaje = re.sub(r\"[0-9]\\S+\", \"\", mensaje)\n",
    "    mensaje = re.sub(emoji_pattern, \"\", mensaje)\n",
    "    mensaje = re.sub(emoji_pattern2, \"\", mensaje)\n",
    "    mensaje = re.sub(emoji_pattern3, \"\", mensaje)\n",
    "    mensaje = re.sub('[%s]' % re.escape(string.punctuation), \"\", mensaje)\n",
    "    mensaje = re.sub(r\"¡|¿+\", \"\", mensaje)\n",
    "    mensaje = unicode(mensaje, 'utf8').lower()\n",
    "    word_tokens = word_tokenize(mensaje)\n",
    "    filtered_sentence = word_tokens\n",
    "    \n",
    "    return filtered_sentence"
   ]
  },
  {
   "cell_type": "markdown",
   "metadata": {},
   "source": [
    "### Conversión de los datos a vectores"
   ]
  },
  {
   "cell_type": "markdown",
   "metadata": {},
   "source": [
    "Ahora se convierte cada mensaje representado como una lista de tokens, en un vector que los modelos de aprendizaje automático pueden entender. \n",
    "\n",
    "Para ello, se cuenta cuántas veces ocurre una palabra en cada mensaje (frecuencia de término), se ponderanan los conteos para que los tokens frecuentes obtengan un menor peso (frecuencia inversa del documento) y se normalizan los vectores a la longitud de la unidad, para abstraer de la longitud del texto original (norma L2).\n",
    "\n",
    "Cada vector tiene tantas dimensiones como palabras únicas en el mensaje."
   ]
  },
  {
   "cell_type": "code",
   "execution_count": 11,
   "metadata": {},
   "outputs": [],
   "source": [
    "vectorConteo = CountVectorizer(analyzer = prepararTweetStemmer).fit(data['text'])\n",
    "matrizTerminos = vectorConteo.transform(data['text'])"
   ]
  },
  {
   "cell_type": "markdown",
   "metadata": {},
   "source": [
    "Después del conteo, la ponderación y normalización se puede hacer con TF-IDF, usando scikit-learn"
   ]
  },
  {
   "cell_type": "code",
   "execution_count": 12,
   "metadata": {},
   "outputs": [],
   "source": [
    "tfidfTransformer = TfidfTransformer().fit(matrizTerminos)\n",
    "mensajesTfidf = tfidfTransformer.transform(matrizTerminos)"
   ]
  },
  {
   "cell_type": "markdown",
   "metadata": {},
   "source": [
    "Se seleccionan aleatoriamente los datos que hacen parte del conjunto de entrenamiento y de evaluación"
   ]
  },
  {
   "cell_type": "code",
   "execution_count": 13,
   "metadata": {},
   "outputs": [],
   "source": [
    "mensajeEntrenamiento, mensajePrueba, labelEntrenamiento, labelPrueba = \\\n",
    "    train_test_split(data['text'], data['label'], test_size=0.5)"
   ]
  },
  {
   "cell_type": "markdown",
   "metadata": {},
   "source": [
    "## 3. Construcción del modelo"
   ]
  },
  {
   "cell_type": "markdown",
   "metadata": {},
   "source": [
    "Se busca la mejor combinación de parámetros para construir los clasificadores, basándose en el porcentaje de exactitud; luego, se realiza el proceso de evaluación usando el mejor de los modelos. Con este proceso se puede ver el efecto de la ponderación IDF (Inverse Document Frequency) sobre la precisión, el coste de procesamiento del stemmer y si realmente ayuda."
   ]
  },
  {
   "cell_type": "markdown",
   "metadata": {},
   "source": [
    "### Clasificador -  Naive Bayes"
   ]
  },
  {
   "cell_type": "code",
   "execution_count": 14,
   "metadata": {},
   "outputs": [],
   "source": [
    "pipeline = Pipeline([\n",
    "    ('bow', CountVectorizer(analyzer=prepararTweetStemmer)),  # strings to token integer counts\n",
    "    ('tfidf', TfidfTransformer()),  # integer counts to weighted TF-IDF scores\n",
    "    ('classifier', MultinomialNB()),  # train on TF-IDF vectors w/ Naive Bayes classifier\n",
    "])\n",
    "\n",
    "params = {\n",
    "    'tfidf__use_idf': (True, False),\n",
    "    'bow__analyzer': (prepararTweetStemmer, prepararTweet),\n",
    "}\n",
    "\n",
    "grid = GridSearchCV(\n",
    "        pipeline,  # pipeline from above\n",
    "        params,  # parameters to tune via cross validation\n",
    "        refit = True,  # fit using all available data at the end, on the best found param combination\n",
    "        n_jobs = -1,  # number of cores to use for parallelization; -1 for \"all cores\"\n",
    "        scoring = 'accuracy',  # what score are we optimizing?\n",
    "    )"
   ]
  },
  {
   "cell_type": "markdown",
   "metadata": {},
   "source": [
    "Se realiza el entrenamiento con la variación de parámetros dada anteriormente."
   ]
  },
  {
   "cell_type": "code",
   "execution_count": 15,
   "metadata": {},
   "outputs": [],
   "source": [
    "clasificadorBayes = grid.fit(mensajeEntrenamiento, labelEntrenamiento)"
   ]
  },
  {
   "cell_type": "markdown",
   "metadata": {},
   "source": [
    "Se imprime cual es la mejor combinación de parámetros para el clasificador, esto usando como métrica el accuracy score."
   ]
  },
  {
   "cell_type": "code",
   "execution_count": 16,
   "metadata": {},
   "outputs": [
    {
     "data": {
      "text/plain": [
       "Pipeline(steps=[('bow', CountVectorizer(analyzer=<function prepararTweetStemmer at 0x7f21c3babde8>,\n",
       "        binary=False, decode_error=u'strict', dtype=<type 'numpy.int64'>,\n",
       "        encoding=u'utf-8', input=u'content', lowercase=True, max_df=1.0,\n",
       "        max_features=None, min_df=1, ngram_range=(1, 1), prepr...         use_idf=True)), ('classifier', MultinomialNB(alpha=1.0, class_prior=None, fit_prior=True))])"
      ]
     },
     "execution_count": 16,
     "metadata": {},
     "output_type": "execute_result"
    }
   ],
   "source": [
    "clasificadorBayes.best_estimator_ "
   ]
  },
  {
   "cell_type": "markdown",
   "metadata": {},
   "source": [
    "Se muestra la tabla con los porcentajes de exactitud obtenidos durante el entrenamiento, la evaluación y el tiempo de demora del clasificador según la combinación de parámetros dada."
   ]
  },
  {
   "cell_type": "code",
   "execution_count": 17,
   "metadata": {},
   "outputs": [
    {
     "data": {
      "text/html": [
       "<div>\n",
       "<table border=\"1\" class=\"dataframe\">\n",
       "  <thead>\n",
       "    <tr style=\"text-align: right;\">\n",
       "      <th></th>\n",
       "      <th>mean_fit_time</th>\n",
       "      <th>mean_score_time</th>\n",
       "      <th>mean_test_score</th>\n",
       "      <th>mean_train_score</th>\n",
       "      <th>param_bow__analyzer</th>\n",
       "      <th>param_tfidf__use_idf</th>\n",
       "      <th>params</th>\n",
       "      <th>rank_test_score</th>\n",
       "      <th>split0_test_score</th>\n",
       "      <th>split0_train_score</th>\n",
       "      <th>split1_test_score</th>\n",
       "      <th>split1_train_score</th>\n",
       "      <th>split2_test_score</th>\n",
       "      <th>split2_train_score</th>\n",
       "      <th>std_fit_time</th>\n",
       "      <th>std_score_time</th>\n",
       "      <th>std_test_score</th>\n",
       "      <th>std_train_score</th>\n",
       "    </tr>\n",
       "  </thead>\n",
       "  <tbody>\n",
       "    <tr>\n",
       "      <th>0</th>\n",
       "      <td>0.756470</td>\n",
       "      <td>0.422039</td>\n",
       "      <td>0.822</td>\n",
       "      <td>0.990005</td>\n",
       "      <td>&lt;function prepararTweetStemmer at 0x7f21c3babde8&gt;</td>\n",
       "      <td>True</td>\n",
       "      <td>{u'tfidf__use_idf': True, u'bow__analyzer': &lt;f...</td>\n",
       "      <td>1</td>\n",
       "      <td>0.844311</td>\n",
       "      <td>0.993994</td>\n",
       "      <td>0.820359</td>\n",
       "      <td>0.990991</td>\n",
       "      <td>0.801205</td>\n",
       "      <td>0.985030</td>\n",
       "      <td>0.051088</td>\n",
       "      <td>0.025816</td>\n",
       "      <td>0.017628</td>\n",
       "      <td>0.003725</td>\n",
       "    </tr>\n",
       "    <tr>\n",
       "      <th>1</th>\n",
       "      <td>0.795807</td>\n",
       "      <td>0.363770</td>\n",
       "      <td>0.816</td>\n",
       "      <td>0.962990</td>\n",
       "      <td>&lt;function prepararTweetStemmer at 0x7f21c76581b8&gt;</td>\n",
       "      <td>False</td>\n",
       "      <td>{u'tfidf__use_idf': False, u'bow__analyzer': &lt;...</td>\n",
       "      <td>2</td>\n",
       "      <td>0.814371</td>\n",
       "      <td>0.957958</td>\n",
       "      <td>0.808383</td>\n",
       "      <td>0.957958</td>\n",
       "      <td>0.825301</td>\n",
       "      <td>0.973054</td>\n",
       "      <td>0.089446</td>\n",
       "      <td>0.033040</td>\n",
       "      <td>0.006999</td>\n",
       "      <td>0.007116</td>\n",
       "    </tr>\n",
       "    <tr>\n",
       "      <th>2</th>\n",
       "      <td>0.245680</td>\n",
       "      <td>0.106092</td>\n",
       "      <td>0.814</td>\n",
       "      <td>0.993997</td>\n",
       "      <td>&lt;function prepararTweet at 0x7f21c3bab500&gt;</td>\n",
       "      <td>True</td>\n",
       "      <td>{u'tfidf__use_idf': True, u'bow__analyzer': &lt;f...</td>\n",
       "      <td>3</td>\n",
       "      <td>0.808383</td>\n",
       "      <td>0.990991</td>\n",
       "      <td>0.820359</td>\n",
       "      <td>0.993994</td>\n",
       "      <td>0.813253</td>\n",
       "      <td>0.997006</td>\n",
       "      <td>0.023942</td>\n",
       "      <td>0.012175</td>\n",
       "      <td>0.004922</td>\n",
       "      <td>0.002456</td>\n",
       "    </tr>\n",
       "    <tr>\n",
       "      <th>3</th>\n",
       "      <td>0.298190</td>\n",
       "      <td>0.103248</td>\n",
       "      <td>0.798</td>\n",
       "      <td>0.976992</td>\n",
       "      <td>&lt;function prepararTweet at 0x7f21c3864230&gt;</td>\n",
       "      <td>False</td>\n",
       "      <td>{u'tfidf__use_idf': False, u'bow__analyzer': &lt;...</td>\n",
       "      <td>4</td>\n",
       "      <td>0.802395</td>\n",
       "      <td>0.978979</td>\n",
       "      <td>0.808383</td>\n",
       "      <td>0.966967</td>\n",
       "      <td>0.783133</td>\n",
       "      <td>0.985030</td>\n",
       "      <td>0.057645</td>\n",
       "      <td>0.004413</td>\n",
       "      <td>0.010763</td>\n",
       "      <td>0.007507</td>\n",
       "    </tr>\n",
       "  </tbody>\n",
       "</table>\n",
       "</div>"
      ],
      "text/plain": [
       "   mean_fit_time  mean_score_time  mean_test_score  mean_train_score  \\\n",
       "0       0.756470         0.422039            0.822          0.990005   \n",
       "1       0.795807         0.363770            0.816          0.962990   \n",
       "2       0.245680         0.106092            0.814          0.993997   \n",
       "3       0.298190         0.103248            0.798          0.976992   \n",
       "\n",
       "                                 param_bow__analyzer param_tfidf__use_idf  \\\n",
       "0  <function prepararTweetStemmer at 0x7f21c3babde8>                 True   \n",
       "1  <function prepararTweetStemmer at 0x7f21c76581b8>                False   \n",
       "2         <function prepararTweet at 0x7f21c3bab500>                 True   \n",
       "3         <function prepararTweet at 0x7f21c3864230>                False   \n",
       "\n",
       "                                              params  rank_test_score  \\\n",
       "0  {u'tfidf__use_idf': True, u'bow__analyzer': <f...                1   \n",
       "1  {u'tfidf__use_idf': False, u'bow__analyzer': <...                2   \n",
       "2  {u'tfidf__use_idf': True, u'bow__analyzer': <f...                3   \n",
       "3  {u'tfidf__use_idf': False, u'bow__analyzer': <...                4   \n",
       "\n",
       "   split0_test_score  split0_train_score  split1_test_score  \\\n",
       "0           0.844311            0.993994           0.820359   \n",
       "1           0.814371            0.957958           0.808383   \n",
       "2           0.808383            0.990991           0.820359   \n",
       "3           0.802395            0.978979           0.808383   \n",
       "\n",
       "   split1_train_score  split2_test_score  split2_train_score  std_fit_time  \\\n",
       "0            0.990991           0.801205            0.985030      0.051088   \n",
       "1            0.957958           0.825301            0.973054      0.089446   \n",
       "2            0.993994           0.813253            0.997006      0.023942   \n",
       "3            0.966967           0.783133            0.985030      0.057645   \n",
       "\n",
       "   std_score_time  std_test_score  std_train_score  \n",
       "0        0.025816        0.017628         0.003725  \n",
       "1        0.033040        0.006999         0.007116  \n",
       "2        0.012175        0.004922         0.002456  \n",
       "3        0.004413        0.010763         0.007507  "
      ]
     },
     "execution_count": 17,
     "metadata": {},
     "output_type": "execute_result"
    }
   ],
   "source": [
    "pd.DataFrame.from_dict(clasificadorBayes.cv_results_, orient='columns', dtype=None)"
   ]
  },
  {
   "cell_type": "markdown",
   "metadata": {},
   "source": [
    "Se realiza la clasificación de los datos de prueba para realizar la evaluación del modelo."
   ]
  },
  {
   "cell_type": "code",
   "execution_count": 18,
   "metadata": {},
   "outputs": [],
   "source": [
    "labelPrediccion = clasificadorBayes.predict(mensajePrueba)"
   ]
  },
  {
   "cell_type": "markdown",
   "metadata": {},
   "source": [
    "Se genera la matriz de confusión con el numero de datos clasificados correcta y erróneamente, el valor de exactitud del clasificador y un reporte detallado."
   ]
  },
  {
   "cell_type": "code",
   "execution_count": 19,
   "metadata": {},
   "outputs": [
    {
     "data": {
      "text/plain": [
       "(205, 38, 40, 217)"
      ]
     },
     "execution_count": 19,
     "metadata": {},
     "output_type": "execute_result"
    }
   ],
   "source": [
    "tn, fp, fn, tp = confusion_matrix(y_true = labelPrueba,y_pred = labelPrediccion).ravel()\n",
    "(tn, fp, fn, tp)"
   ]
  },
  {
   "cell_type": "code",
   "execution_count": 20,
   "metadata": {},
   "outputs": [
    {
     "name": "stdout",
     "output_type": "stream",
     "text": [
      "Accuracy score: 0.844\n"
     ]
    }
   ],
   "source": [
    "print('Accuracy score: {}'.format(accuracy_score(labelPrueba, labelPrediccion)))"
   ]
  },
  {
   "cell_type": "code",
   "execution_count": 21,
   "metadata": {},
   "outputs": [
    {
     "name": "stdout",
     "output_type": "stream",
     "text": [
      "             precision    recall  f1-score   support\n",
      "\n",
      "    nosiata       0.84      0.84      0.84       243\n",
      "      siata       0.85      0.84      0.85       257\n",
      "\n",
      "avg / total       0.84      0.84      0.84       500\n",
      "\n"
     ]
    }
   ],
   "source": [
    "print classification_report(labelPrueba, labelPrediccion)"
   ]
  },
  {
   "cell_type": "markdown",
   "metadata": {},
   "source": [
    "Se serializa y almacena en el disco el clasificador con la mejor combinación de parámetros entrenado y listo para utilizarse."
   ]
  },
  {
   "cell_type": "code",
   "execution_count": 23,
   "metadata": {},
   "outputs": [],
   "source": [
    "with open('modelos/clasificadorBayes.pkl', 'wb') as archivoClasificadorBayes:\n",
    "    dill.dump(clasificadorBayes, archivoClasificadorBayes)\n",
    "\n",
    "#clasificadorBayes_carga = dill.load(open('clasificadorBayes.pkl'))"
   ]
  },
  {
   "cell_type": "markdown",
   "metadata": {},
   "source": [
    "### Clasificador - Máquinas de vectores de soporte (SVM)"
   ]
  },
  {
   "cell_type": "code",
   "execution_count": 24,
   "metadata": {},
   "outputs": [],
   "source": [
    "pipelineSVM = Pipeline([\n",
    "                        ('bow', CountVectorizer(analyzer=prepararTweetStemmer)),  # strings to token integer counts\n",
    "                        ('tfidf', TfidfTransformer()),  # integer counts to weighted TF-IDF scores\n",
    "                        ('classifier', SVC()),  # train on TF-IDF vectors w/ Naive Bayes classifier\n",
    "                    ])\n",
    "\n",
    "paramSVM = [\n",
    "              {'classifier__C': [0.1, 1, 10], 'classifier__kernel': ['linear']},\n",
    "              {'classifier__C': [0.1, 1, 10], 'classifier__kernel': ['poly']},\n",
    "              {'classifier__C': [0.1, 1, 10], 'classifier__kernel': ['rbf']},\n",
    "              {'tfidf__use_idf': (True, False) },\n",
    "              { 'bow__analyzer': (prepararTweetStemmer, prepararTweet)},\n",
    "            ]\n",
    "\n",
    "gridSVM = GridSearchCV(\n",
    "        pipelineSVM,  # pipeline from above\n",
    "        paramSVM,  # parameters to tune via cross validation\n",
    "        refit = True,  # fit using all available data at the end, on the best found param combination\n",
    "        n_jobs = -1,  # number of cores to use for parallelization; -1 for \"all cores\"\n",
    "        scoring = 'accuracy',  # what score are we optimizing?\n",
    "    )"
   ]
  },
  {
   "cell_type": "markdown",
   "metadata": {},
   "source": [
    "Se realiza el entrenamiento con la variación de parámetros dada anteriormente."
   ]
  },
  {
   "cell_type": "code",
   "execution_count": 25,
   "metadata": {},
   "outputs": [],
   "source": [
    "clasificadorSVM = gridSVM.fit(mensajeEntrenamiento, labelEntrenamiento) # find the best combination from param_svm"
   ]
  },
  {
   "cell_type": "markdown",
   "metadata": {},
   "source": [
    "Se imprime cual es la mejor combinación de parámetros para el clasificador, esto usando como métrica el accuracy score."
   ]
  },
  {
   "cell_type": "code",
   "execution_count": 26,
   "metadata": {},
   "outputs": [
    {
     "data": {
      "text/plain": [
       "Pipeline(steps=[('bow', CountVectorizer(analyzer=<function prepararTweetStemmer at 0x7f21c7612320>,\n",
       "        binary=False, decode_error=u'strict', dtype=<type 'numpy.int64'>,\n",
       "        encoding=u'utf-8', input=u'content', lowercase=True, max_df=1.0,\n",
       "        max_features=None, min_df=1, ngram_range=(1, 1), prepr...,\n",
       "  max_iter=-1, probability=False, random_state=None, shrinking=True,\n",
       "  tol=0.001, verbose=False))])"
      ]
     },
     "execution_count": 26,
     "metadata": {},
     "output_type": "execute_result"
    }
   ],
   "source": [
    "clasificadorSVM.best_estimator_ "
   ]
  },
  {
   "cell_type": "markdown",
   "metadata": {},
   "source": [
    "Se muestra la tabla con los porcentajes de exactitud obtenidos durante el entrenamiento, la evaluación y el tiempo de demora del clasificador según la combinación de parámetros dada."
   ]
  },
  {
   "cell_type": "code",
   "execution_count": 27,
   "metadata": {},
   "outputs": [
    {
     "data": {
      "text/html": [
       "<div>\n",
       "<table border=\"1\" class=\"dataframe\">\n",
       "  <thead>\n",
       "    <tr style=\"text-align: right;\">\n",
       "      <th></th>\n",
       "      <th>mean_fit_time</th>\n",
       "      <th>mean_score_time</th>\n",
       "      <th>mean_test_score</th>\n",
       "      <th>mean_train_score</th>\n",
       "      <th>param_bow__analyzer</th>\n",
       "      <th>param_classifier__C</th>\n",
       "      <th>param_classifier__kernel</th>\n",
       "      <th>param_tfidf__use_idf</th>\n",
       "      <th>params</th>\n",
       "      <th>rank_test_score</th>\n",
       "      <th>split0_test_score</th>\n",
       "      <th>split0_train_score</th>\n",
       "      <th>split1_test_score</th>\n",
       "      <th>split1_train_score</th>\n",
       "      <th>split2_test_score</th>\n",
       "      <th>split2_train_score</th>\n",
       "      <th>std_fit_time</th>\n",
       "      <th>std_score_time</th>\n",
       "      <th>std_test_score</th>\n",
       "      <th>std_train_score</th>\n",
       "    </tr>\n",
       "  </thead>\n",
       "  <tbody>\n",
       "    <tr>\n",
       "      <th>0</th>\n",
       "      <td>0.728083</td>\n",
       "      <td>0.327703</td>\n",
       "      <td>0.516</td>\n",
       "      <td>0.519001</td>\n",
       "      <td>NaN</td>\n",
       "      <td>0.1</td>\n",
       "      <td>linear</td>\n",
       "      <td>NaN</td>\n",
       "      <td>{u'classifier__kernel': u'linear', u'classifie...</td>\n",
       "      <td>3</td>\n",
       "      <td>0.514970</td>\n",
       "      <td>0.513514</td>\n",
       "      <td>0.514970</td>\n",
       "      <td>0.525526</td>\n",
       "      <td>0.518072</td>\n",
       "      <td>0.517964</td>\n",
       "      <td>0.019086</td>\n",
       "      <td>0.009905</td>\n",
       "      <td>0.001461</td>\n",
       "      <td>0.004958</td>\n",
       "    </tr>\n",
       "    <tr>\n",
       "      <th>1</th>\n",
       "      <td>0.681895</td>\n",
       "      <td>0.329627</td>\n",
       "      <td>0.800</td>\n",
       "      <td>0.989999</td>\n",
       "      <td>NaN</td>\n",
       "      <td>1</td>\n",
       "      <td>linear</td>\n",
       "      <td>NaN</td>\n",
       "      <td>{u'classifier__kernel': u'linear', u'classifie...</td>\n",
       "      <td>1</td>\n",
       "      <td>0.820359</td>\n",
       "      <td>0.990991</td>\n",
       "      <td>0.802395</td>\n",
       "      <td>0.987988</td>\n",
       "      <td>0.777108</td>\n",
       "      <td>0.991018</td>\n",
       "      <td>0.034422</td>\n",
       "      <td>0.010325</td>\n",
       "      <td>0.017730</td>\n",
       "      <td>0.001422</td>\n",
       "    </tr>\n",
       "    <tr>\n",
       "      <th>2</th>\n",
       "      <td>0.660925</td>\n",
       "      <td>0.323289</td>\n",
       "      <td>0.798</td>\n",
       "      <td>1.000000</td>\n",
       "      <td>NaN</td>\n",
       "      <td>10</td>\n",
       "      <td>linear</td>\n",
       "      <td>NaN</td>\n",
       "      <td>{u'classifier__kernel': u'linear', u'classifie...</td>\n",
       "      <td>2</td>\n",
       "      <td>0.832335</td>\n",
       "      <td>1.000000</td>\n",
       "      <td>0.796407</td>\n",
       "      <td>1.000000</td>\n",
       "      <td>0.765060</td>\n",
       "      <td>1.000000</td>\n",
       "      <td>0.007043</td>\n",
       "      <td>0.007094</td>\n",
       "      <td>0.027474</td>\n",
       "      <td>0.000000</td>\n",
       "    </tr>\n",
       "    <tr>\n",
       "      <th>3</th>\n",
       "      <td>0.667285</td>\n",
       "      <td>0.333104</td>\n",
       "      <td>0.514</td>\n",
       "      <td>0.513999</td>\n",
       "      <td>NaN</td>\n",
       "      <td>0.1</td>\n",
       "      <td>poly</td>\n",
       "      <td>NaN</td>\n",
       "      <td>{u'classifier__kernel': u'poly', u'classifier_...</td>\n",
       "      <td>4</td>\n",
       "      <td>0.514970</td>\n",
       "      <td>0.513514</td>\n",
       "      <td>0.514970</td>\n",
       "      <td>0.513514</td>\n",
       "      <td>0.512048</td>\n",
       "      <td>0.514970</td>\n",
       "      <td>0.017806</td>\n",
       "      <td>0.005545</td>\n",
       "      <td>0.001376</td>\n",
       "      <td>0.000687</td>\n",
       "    </tr>\n",
       "    <tr>\n",
       "      <th>4</th>\n",
       "      <td>0.741759</td>\n",
       "      <td>0.345818</td>\n",
       "      <td>0.514</td>\n",
       "      <td>0.513999</td>\n",
       "      <td>NaN</td>\n",
       "      <td>1</td>\n",
       "      <td>poly</td>\n",
       "      <td>NaN</td>\n",
       "      <td>{u'classifier__kernel': u'poly', u'classifier_...</td>\n",
       "      <td>4</td>\n",
       "      <td>0.514970</td>\n",
       "      <td>0.513514</td>\n",
       "      <td>0.514970</td>\n",
       "      <td>0.513514</td>\n",
       "      <td>0.512048</td>\n",
       "      <td>0.514970</td>\n",
       "      <td>0.048656</td>\n",
       "      <td>0.009443</td>\n",
       "      <td>0.001376</td>\n",
       "      <td>0.000687</td>\n",
       "    </tr>\n",
       "    <tr>\n",
       "      <th>5</th>\n",
       "      <td>0.792158</td>\n",
       "      <td>0.330912</td>\n",
       "      <td>0.514</td>\n",
       "      <td>0.513999</td>\n",
       "      <td>NaN</td>\n",
       "      <td>10</td>\n",
       "      <td>poly</td>\n",
       "      <td>NaN</td>\n",
       "      <td>{u'classifier__kernel': u'poly', u'classifier_...</td>\n",
       "      <td>4</td>\n",
       "      <td>0.514970</td>\n",
       "      <td>0.513514</td>\n",
       "      <td>0.514970</td>\n",
       "      <td>0.513514</td>\n",
       "      <td>0.512048</td>\n",
       "      <td>0.514970</td>\n",
       "      <td>0.077257</td>\n",
       "      <td>0.007911</td>\n",
       "      <td>0.001376</td>\n",
       "      <td>0.000687</td>\n",
       "    </tr>\n",
       "    <tr>\n",
       "      <th>6</th>\n",
       "      <td>0.773525</td>\n",
       "      <td>0.348680</td>\n",
       "      <td>0.514</td>\n",
       "      <td>0.513999</td>\n",
       "      <td>NaN</td>\n",
       "      <td>0.1</td>\n",
       "      <td>rbf</td>\n",
       "      <td>NaN</td>\n",
       "      <td>{u'classifier__kernel': u'rbf', u'classifier__...</td>\n",
       "      <td>4</td>\n",
       "      <td>0.514970</td>\n",
       "      <td>0.513514</td>\n",
       "      <td>0.514970</td>\n",
       "      <td>0.513514</td>\n",
       "      <td>0.512048</td>\n",
       "      <td>0.514970</td>\n",
       "      <td>0.067082</td>\n",
       "      <td>0.020161</td>\n",
       "      <td>0.001376</td>\n",
       "      <td>0.000687</td>\n",
       "    </tr>\n",
       "    <tr>\n",
       "      <th>7</th>\n",
       "      <td>0.790429</td>\n",
       "      <td>0.347855</td>\n",
       "      <td>0.514</td>\n",
       "      <td>0.513999</td>\n",
       "      <td>NaN</td>\n",
       "      <td>1</td>\n",
       "      <td>rbf</td>\n",
       "      <td>NaN</td>\n",
       "      <td>{u'classifier__kernel': u'rbf', u'classifier__...</td>\n",
       "      <td>4</td>\n",
       "      <td>0.514970</td>\n",
       "      <td>0.513514</td>\n",
       "      <td>0.514970</td>\n",
       "      <td>0.513514</td>\n",
       "      <td>0.512048</td>\n",
       "      <td>0.514970</td>\n",
       "      <td>0.062448</td>\n",
       "      <td>0.007654</td>\n",
       "      <td>0.001376</td>\n",
       "      <td>0.000687</td>\n",
       "    </tr>\n",
       "    <tr>\n",
       "      <th>8</th>\n",
       "      <td>0.714685</td>\n",
       "      <td>0.335574</td>\n",
       "      <td>0.514</td>\n",
       "      <td>0.513999</td>\n",
       "      <td>NaN</td>\n",
       "      <td>10</td>\n",
       "      <td>rbf</td>\n",
       "      <td>NaN</td>\n",
       "      <td>{u'classifier__kernel': u'rbf', u'classifier__...</td>\n",
       "      <td>4</td>\n",
       "      <td>0.514970</td>\n",
       "      <td>0.513514</td>\n",
       "      <td>0.514970</td>\n",
       "      <td>0.513514</td>\n",
       "      <td>0.512048</td>\n",
       "      <td>0.514970</td>\n",
       "      <td>0.016558</td>\n",
       "      <td>0.006509</td>\n",
       "      <td>0.001376</td>\n",
       "      <td>0.000687</td>\n",
       "    </tr>\n",
       "    <tr>\n",
       "      <th>9</th>\n",
       "      <td>0.727478</td>\n",
       "      <td>0.339457</td>\n",
       "      <td>0.514</td>\n",
       "      <td>0.513999</td>\n",
       "      <td>NaN</td>\n",
       "      <td>NaN</td>\n",
       "      <td>NaN</td>\n",
       "      <td>True</td>\n",
       "      <td>{u'tfidf__use_idf': True}</td>\n",
       "      <td>4</td>\n",
       "      <td>0.514970</td>\n",
       "      <td>0.513514</td>\n",
       "      <td>0.514970</td>\n",
       "      <td>0.513514</td>\n",
       "      <td>0.512048</td>\n",
       "      <td>0.514970</td>\n",
       "      <td>0.006144</td>\n",
       "      <td>0.008308</td>\n",
       "      <td>0.001376</td>\n",
       "      <td>0.000687</td>\n",
       "    </tr>\n",
       "    <tr>\n",
       "      <th>10</th>\n",
       "      <td>0.719073</td>\n",
       "      <td>0.347588</td>\n",
       "      <td>0.514</td>\n",
       "      <td>0.513999</td>\n",
       "      <td>NaN</td>\n",
       "      <td>NaN</td>\n",
       "      <td>NaN</td>\n",
       "      <td>False</td>\n",
       "      <td>{u'tfidf__use_idf': False}</td>\n",
       "      <td>4</td>\n",
       "      <td>0.514970</td>\n",
       "      <td>0.513514</td>\n",
       "      <td>0.514970</td>\n",
       "      <td>0.513514</td>\n",
       "      <td>0.512048</td>\n",
       "      <td>0.514970</td>\n",
       "      <td>0.045664</td>\n",
       "      <td>0.014343</td>\n",
       "      <td>0.001376</td>\n",
       "      <td>0.000687</td>\n",
       "    </tr>\n",
       "    <tr>\n",
       "      <th>11</th>\n",
       "      <td>0.734283</td>\n",
       "      <td>0.351298</td>\n",
       "      <td>0.514</td>\n",
       "      <td>0.513999</td>\n",
       "      <td>&lt;function prepararTweetStemmer at 0x7f21c3864cf8&gt;</td>\n",
       "      <td>NaN</td>\n",
       "      <td>NaN</td>\n",
       "      <td>NaN</td>\n",
       "      <td>{u'bow__analyzer': &lt;function prepararTweetStem...</td>\n",
       "      <td>4</td>\n",
       "      <td>0.514970</td>\n",
       "      <td>0.513514</td>\n",
       "      <td>0.514970</td>\n",
       "      <td>0.513514</td>\n",
       "      <td>0.512048</td>\n",
       "      <td>0.514970</td>\n",
       "      <td>0.032457</td>\n",
       "      <td>0.016419</td>\n",
       "      <td>0.001376</td>\n",
       "      <td>0.000687</td>\n",
       "    </tr>\n",
       "    <tr>\n",
       "      <th>12</th>\n",
       "      <td>0.238132</td>\n",
       "      <td>0.106981</td>\n",
       "      <td>0.514</td>\n",
       "      <td>0.513999</td>\n",
       "      <td>&lt;function prepararTweet at 0x7f21c3bab6e0&gt;</td>\n",
       "      <td>NaN</td>\n",
       "      <td>NaN</td>\n",
       "      <td>NaN</td>\n",
       "      <td>{u'bow__analyzer': &lt;function prepararTweet at ...</td>\n",
       "      <td>4</td>\n",
       "      <td>0.514970</td>\n",
       "      <td>0.513514</td>\n",
       "      <td>0.514970</td>\n",
       "      <td>0.513514</td>\n",
       "      <td>0.512048</td>\n",
       "      <td>0.514970</td>\n",
       "      <td>0.005774</td>\n",
       "      <td>0.002779</td>\n",
       "      <td>0.001376</td>\n",
       "      <td>0.000687</td>\n",
       "    </tr>\n",
       "  </tbody>\n",
       "</table>\n",
       "</div>"
      ],
      "text/plain": [
       "    mean_fit_time  mean_score_time  mean_test_score  mean_train_score  \\\n",
       "0        0.728083         0.327703            0.516          0.519001   \n",
       "1        0.681895         0.329627            0.800          0.989999   \n",
       "2        0.660925         0.323289            0.798          1.000000   \n",
       "3        0.667285         0.333104            0.514          0.513999   \n",
       "4        0.741759         0.345818            0.514          0.513999   \n",
       "5        0.792158         0.330912            0.514          0.513999   \n",
       "6        0.773525         0.348680            0.514          0.513999   \n",
       "7        0.790429         0.347855            0.514          0.513999   \n",
       "8        0.714685         0.335574            0.514          0.513999   \n",
       "9        0.727478         0.339457            0.514          0.513999   \n",
       "10       0.719073         0.347588            0.514          0.513999   \n",
       "11       0.734283         0.351298            0.514          0.513999   \n",
       "12       0.238132         0.106981            0.514          0.513999   \n",
       "\n",
       "                                  param_bow__analyzer param_classifier__C  \\\n",
       "0                                                 NaN                 0.1   \n",
       "1                                                 NaN                   1   \n",
       "2                                                 NaN                  10   \n",
       "3                                                 NaN                 0.1   \n",
       "4                                                 NaN                   1   \n",
       "5                                                 NaN                  10   \n",
       "6                                                 NaN                 0.1   \n",
       "7                                                 NaN                   1   \n",
       "8                                                 NaN                  10   \n",
       "9                                                 NaN                 NaN   \n",
       "10                                                NaN                 NaN   \n",
       "11  <function prepararTweetStemmer at 0x7f21c3864cf8>                 NaN   \n",
       "12         <function prepararTweet at 0x7f21c3bab6e0>                 NaN   \n",
       "\n",
       "   param_classifier__kernel param_tfidf__use_idf  \\\n",
       "0                    linear                  NaN   \n",
       "1                    linear                  NaN   \n",
       "2                    linear                  NaN   \n",
       "3                      poly                  NaN   \n",
       "4                      poly                  NaN   \n",
       "5                      poly                  NaN   \n",
       "6                       rbf                  NaN   \n",
       "7                       rbf                  NaN   \n",
       "8                       rbf                  NaN   \n",
       "9                       NaN                 True   \n",
       "10                      NaN                False   \n",
       "11                      NaN                  NaN   \n",
       "12                      NaN                  NaN   \n",
       "\n",
       "                                               params  rank_test_score  \\\n",
       "0   {u'classifier__kernel': u'linear', u'classifie...                3   \n",
       "1   {u'classifier__kernel': u'linear', u'classifie...                1   \n",
       "2   {u'classifier__kernel': u'linear', u'classifie...                2   \n",
       "3   {u'classifier__kernel': u'poly', u'classifier_...                4   \n",
       "4   {u'classifier__kernel': u'poly', u'classifier_...                4   \n",
       "5   {u'classifier__kernel': u'poly', u'classifier_...                4   \n",
       "6   {u'classifier__kernel': u'rbf', u'classifier__...                4   \n",
       "7   {u'classifier__kernel': u'rbf', u'classifier__...                4   \n",
       "8   {u'classifier__kernel': u'rbf', u'classifier__...                4   \n",
       "9                           {u'tfidf__use_idf': True}                4   \n",
       "10                         {u'tfidf__use_idf': False}                4   \n",
       "11  {u'bow__analyzer': <function prepararTweetStem...                4   \n",
       "12  {u'bow__analyzer': <function prepararTweet at ...                4   \n",
       "\n",
       "    split0_test_score  split0_train_score  split1_test_score  \\\n",
       "0            0.514970            0.513514           0.514970   \n",
       "1            0.820359            0.990991           0.802395   \n",
       "2            0.832335            1.000000           0.796407   \n",
       "3            0.514970            0.513514           0.514970   \n",
       "4            0.514970            0.513514           0.514970   \n",
       "5            0.514970            0.513514           0.514970   \n",
       "6            0.514970            0.513514           0.514970   \n",
       "7            0.514970            0.513514           0.514970   \n",
       "8            0.514970            0.513514           0.514970   \n",
       "9            0.514970            0.513514           0.514970   \n",
       "10           0.514970            0.513514           0.514970   \n",
       "11           0.514970            0.513514           0.514970   \n",
       "12           0.514970            0.513514           0.514970   \n",
       "\n",
       "    split1_train_score  split2_test_score  split2_train_score  std_fit_time  \\\n",
       "0             0.525526           0.518072            0.517964      0.019086   \n",
       "1             0.987988           0.777108            0.991018      0.034422   \n",
       "2             1.000000           0.765060            1.000000      0.007043   \n",
       "3             0.513514           0.512048            0.514970      0.017806   \n",
       "4             0.513514           0.512048            0.514970      0.048656   \n",
       "5             0.513514           0.512048            0.514970      0.077257   \n",
       "6             0.513514           0.512048            0.514970      0.067082   \n",
       "7             0.513514           0.512048            0.514970      0.062448   \n",
       "8             0.513514           0.512048            0.514970      0.016558   \n",
       "9             0.513514           0.512048            0.514970      0.006144   \n",
       "10            0.513514           0.512048            0.514970      0.045664   \n",
       "11            0.513514           0.512048            0.514970      0.032457   \n",
       "12            0.513514           0.512048            0.514970      0.005774   \n",
       "\n",
       "    std_score_time  std_test_score  std_train_score  \n",
       "0         0.009905        0.001461         0.004958  \n",
       "1         0.010325        0.017730         0.001422  \n",
       "2         0.007094        0.027474         0.000000  \n",
       "3         0.005545        0.001376         0.000687  \n",
       "4         0.009443        0.001376         0.000687  \n",
       "5         0.007911        0.001376         0.000687  \n",
       "6         0.020161        0.001376         0.000687  \n",
       "7         0.007654        0.001376         0.000687  \n",
       "8         0.006509        0.001376         0.000687  \n",
       "9         0.008308        0.001376         0.000687  \n",
       "10        0.014343        0.001376         0.000687  \n",
       "11        0.016419        0.001376         0.000687  \n",
       "12        0.002779        0.001376         0.000687  "
      ]
     },
     "execution_count": 27,
     "metadata": {},
     "output_type": "execute_result"
    }
   ],
   "source": [
    "pd.DataFrame.from_dict(clasificadorSVM.cv_results_, orient='columns', dtype=None)"
   ]
  },
  {
   "cell_type": "code",
   "execution_count": 28,
   "metadata": {},
   "outputs": [],
   "source": [
    "pd.DataFrame.from_dict(clasificadorSVM.cv_results_, orient='columns', dtype=None).to_csv('svm')"
   ]
  },
  {
   "cell_type": "markdown",
   "metadata": {},
   "source": [
    "Se realiza la clasificación de los datos de prueba para realizar la evaluación del modelo."
   ]
  },
  {
   "cell_type": "code",
   "execution_count": 29,
   "metadata": {},
   "outputs": [],
   "source": [
    "labelPrediccionSVM = clasificadorSVM.predict(mensajePrueba)"
   ]
  },
  {
   "cell_type": "markdown",
   "metadata": {},
   "source": [
    "Se genera la matriz de confusión con el numero de datos clasificados correcta y erróneamente, el valor de exactitud del clasificador y un reporte detallado."
   ]
  },
  {
   "cell_type": "code",
   "execution_count": 30,
   "metadata": {},
   "outputs": [
    {
     "data": {
      "text/plain": [
       "(211, 32, 44, 213)"
      ]
     },
     "execution_count": 30,
     "metadata": {},
     "output_type": "execute_result"
    }
   ],
   "source": [
    "tn, fp, fn, tp = confusion_matrix(y_true = labelPrueba, y_pred = labelPrediccionSVM).ravel()\n",
    "(tn, fp, fn, tp)"
   ]
  },
  {
   "cell_type": "code",
   "execution_count": 32,
   "metadata": {},
   "outputs": [
    {
     "name": "stdout",
     "output_type": "stream",
     "text": [
      "Accuracy score: 0.848\n"
     ]
    }
   ],
   "source": [
    "print('Accuracy score: {}'.format(accuracy_score(labelPrueba, labelPrediccionSVM)))"
   ]
  },
  {
   "cell_type": "code",
   "execution_count": 33,
   "metadata": {},
   "outputs": [
    {
     "name": "stdout",
     "output_type": "stream",
     "text": [
      "             precision    recall  f1-score   support\n",
      "\n",
      "    nosiata       0.83      0.87      0.85       243\n",
      "      siata       0.87      0.83      0.85       257\n",
      "\n",
      "avg / total       0.85      0.85      0.85       500\n",
      "\n"
     ]
    }
   ],
   "source": [
    "print classification_report(labelPrueba, labelPrediccionSVM)"
   ]
  },
  {
   "cell_type": "markdown",
   "metadata": {},
   "source": [
    "Se serializa y almacena en el disco el clasificador con la mejor combinación de parámetros entrenado y listo para utilizarse."
   ]
  },
  {
   "cell_type": "code",
   "execution_count": 35,
   "metadata": {},
   "outputs": [],
   "source": [
    "with open('modelos/clasificadorSVM.pkl', 'wb') as archivoClasificadorSVM:\n",
    "    dill.dump(clasificadorSVM, archivoClasificadorSVM)\n",
    "\n",
    "#clasificadorSVM_carga = dill.load(open('modelos/clasificadorSVM.pkl'))"
   ]
  },
  {
   "cell_type": "markdown",
   "metadata": {},
   "source": [
    "### Clasificador - Bosques aleatorios (Random forest )"
   ]
  },
  {
   "cell_type": "code",
   "execution_count": 36,
   "metadata": {},
   "outputs": [],
   "source": [
    "pipelineRF = Pipeline([\n",
    "                        ('bow', CountVectorizer(analyzer=prepararTweetStemmer)),  # strings to token integer counts\n",
    "                        ('tfidf', TfidfTransformer()),  # integer counts to weighted TF-IDF scores\n",
    "                        ('classifier', RandomForestClassifier(criterion='entropy')),  # train on TF-IDF vectors w/ Naive Bayes classifier\n",
    "                    ])\n",
    "\n",
    "paramRF = [{ 'classifier__n_estimators': [200, 500, 1000] },\n",
    "          {'tfidf__use_idf': (True, False) },\n",
    "          { 'bow__analyzer': (prepararTweetStemmer, prepararTweet)}]\n",
    "\n",
    "gridRF = GridSearchCV(\n",
    "        pipelineRF,  # pipeline from above\n",
    "        paramRF,  # parameters to tune via cross validation\n",
    "        refit = True,  # fit using all available data at the end, on the best found param combination\n",
    "        n_jobs = -1,  # number of cores to use for parallelization; -1 for \"all cores\"\n",
    "        scoring = 'accuracy',  # what score are we optimizing?\n",
    "    )"
   ]
  },
  {
   "cell_type": "markdown",
   "metadata": {},
   "source": [
    "Se realiza el entrenamiento con la variación de parámetros dada anteriormente."
   ]
  },
  {
   "cell_type": "code",
   "execution_count": 38,
   "metadata": {},
   "outputs": [],
   "source": [
    "clasificadorRF = gridRF.fit(mensajeEntrenamiento, labelEntrenamiento) # find the best combination from param_svm"
   ]
  },
  {
   "cell_type": "markdown",
   "metadata": {},
   "source": [
    "Se imprime cual es la mejor combinación de parámetros para el clasificador, esto usando como métrica el accuracy score."
   ]
  },
  {
   "cell_type": "code",
   "execution_count": 39,
   "metadata": {},
   "outputs": [
    {
     "data": {
      "text/plain": [
       "Pipeline(steps=[('bow', CountVectorizer(analyzer=<function prepararTweetStemmer at 0x7f21c7612320>,\n",
       "        binary=False, decode_error=u'strict', dtype=<type 'numpy.int64'>,\n",
       "        encoding=u'utf-8', input=u'content', lowercase=True, max_df=1.0,\n",
       "        max_features=None, min_df=1, ngram_range=(1, 1), prepr...mators=200, n_jobs=1, oob_score=False, random_state=None,\n",
       "            verbose=0, warm_start=False))])"
      ]
     },
     "execution_count": 39,
     "metadata": {},
     "output_type": "execute_result"
    }
   ],
   "source": [
    "clasificadorRF.best_estimator_ "
   ]
  },
  {
   "cell_type": "markdown",
   "metadata": {},
   "source": [
    "Se muestra la tabla con los porcentajes de exactitud obtenidos durante el entrenamiento, la evaluación y el tiempo de demora del clasificador según la combinación de parámetros dada."
   ]
  },
  {
   "cell_type": "code",
   "execution_count": 40,
   "metadata": {},
   "outputs": [
    {
     "data": {
      "text/html": [
       "<div>\n",
       "<table border=\"1\" class=\"dataframe\">\n",
       "  <thead>\n",
       "    <tr style=\"text-align: right;\">\n",
       "      <th></th>\n",
       "      <th>mean_fit_time</th>\n",
       "      <th>mean_score_time</th>\n",
       "      <th>mean_test_score</th>\n",
       "      <th>mean_train_score</th>\n",
       "      <th>param_bow__analyzer</th>\n",
       "      <th>param_classifier__n_estimators</th>\n",
       "      <th>param_tfidf__use_idf</th>\n",
       "      <th>params</th>\n",
       "      <th>rank_test_score</th>\n",
       "      <th>split0_test_score</th>\n",
       "      <th>split0_train_score</th>\n",
       "      <th>split1_test_score</th>\n",
       "      <th>split1_train_score</th>\n",
       "      <th>split2_test_score</th>\n",
       "      <th>split2_train_score</th>\n",
       "      <th>std_fit_time</th>\n",
       "      <th>std_score_time</th>\n",
       "      <th>std_test_score</th>\n",
       "      <th>std_train_score</th>\n",
       "    </tr>\n",
       "  </thead>\n",
       "  <tbody>\n",
       "    <tr>\n",
       "      <th>0</th>\n",
       "      <td>2.430151</td>\n",
       "      <td>0.583312</td>\n",
       "      <td>0.796</td>\n",
       "      <td>1.000000</td>\n",
       "      <td>NaN</td>\n",
       "      <td>200</td>\n",
       "      <td>NaN</td>\n",
       "      <td>{u'classifier__n_estimators': 200}</td>\n",
       "      <td>1</td>\n",
       "      <td>0.790419</td>\n",
       "      <td>1.000000</td>\n",
       "      <td>0.784431</td>\n",
       "      <td>1.000000</td>\n",
       "      <td>0.813253</td>\n",
       "      <td>1.000000</td>\n",
       "      <td>0.004272</td>\n",
       "      <td>0.007506</td>\n",
       "      <td>0.012407</td>\n",
       "      <td>0.000000</td>\n",
       "    </tr>\n",
       "    <tr>\n",
       "      <th>1</th>\n",
       "      <td>4.989888</td>\n",
       "      <td>0.974685</td>\n",
       "      <td>0.784</td>\n",
       "      <td>1.000000</td>\n",
       "      <td>NaN</td>\n",
       "      <td>500</td>\n",
       "      <td>NaN</td>\n",
       "      <td>{u'classifier__n_estimators': 500}</td>\n",
       "      <td>2</td>\n",
       "      <td>0.790419</td>\n",
       "      <td>1.000000</td>\n",
       "      <td>0.760479</td>\n",
       "      <td>1.000000</td>\n",
       "      <td>0.801205</td>\n",
       "      <td>1.000000</td>\n",
       "      <td>0.064966</td>\n",
       "      <td>0.015626</td>\n",
       "      <td>0.017228</td>\n",
       "      <td>0.000000</td>\n",
       "    </tr>\n",
       "    <tr>\n",
       "      <th>2</th>\n",
       "      <td>9.562292</td>\n",
       "      <td>1.710642</td>\n",
       "      <td>0.780</td>\n",
       "      <td>1.000000</td>\n",
       "      <td>NaN</td>\n",
       "      <td>1000</td>\n",
       "      <td>NaN</td>\n",
       "      <td>{u'classifier__n_estimators': 1000}</td>\n",
       "      <td>3</td>\n",
       "      <td>0.772455</td>\n",
       "      <td>1.000000</td>\n",
       "      <td>0.766467</td>\n",
       "      <td>1.000000</td>\n",
       "      <td>0.801205</td>\n",
       "      <td>1.000000</td>\n",
       "      <td>0.033251</td>\n",
       "      <td>0.108110</td>\n",
       "      <td>0.015148</td>\n",
       "      <td>0.000000</td>\n",
       "    </tr>\n",
       "    <tr>\n",
       "      <th>3</th>\n",
       "      <td>0.733169</td>\n",
       "      <td>0.327689</td>\n",
       "      <td>0.728</td>\n",
       "      <td>0.992999</td>\n",
       "      <td>NaN</td>\n",
       "      <td>NaN</td>\n",
       "      <td>True</td>\n",
       "      <td>{u'tfidf__use_idf': True}</td>\n",
       "      <td>6</td>\n",
       "      <td>0.760479</td>\n",
       "      <td>0.987988</td>\n",
       "      <td>0.706587</td>\n",
       "      <td>0.996997</td>\n",
       "      <td>0.716867</td>\n",
       "      <td>0.994012</td>\n",
       "      <td>0.004788</td>\n",
       "      <td>0.006154</td>\n",
       "      <td>0.023380</td>\n",
       "      <td>0.003747</td>\n",
       "    </tr>\n",
       "    <tr>\n",
       "      <th>4</th>\n",
       "      <td>0.838254</td>\n",
       "      <td>0.353541</td>\n",
       "      <td>0.740</td>\n",
       "      <td>0.990997</td>\n",
       "      <td>NaN</td>\n",
       "      <td>NaN</td>\n",
       "      <td>False</td>\n",
       "      <td>{u'tfidf__use_idf': False}</td>\n",
       "      <td>5</td>\n",
       "      <td>0.724551</td>\n",
       "      <td>0.993994</td>\n",
       "      <td>0.736527</td>\n",
       "      <td>0.984985</td>\n",
       "      <td>0.759036</td>\n",
       "      <td>0.994012</td>\n",
       "      <td>0.081655</td>\n",
       "      <td>0.037417</td>\n",
       "      <td>0.014285</td>\n",
       "      <td>0.004251</td>\n",
       "    </tr>\n",
       "    <tr>\n",
       "      <th>5</th>\n",
       "      <td>0.735337</td>\n",
       "      <td>0.333692</td>\n",
       "      <td>0.742</td>\n",
       "      <td>0.989004</td>\n",
       "      <td>&lt;function prepararTweetStemmer at 0x7f21c37b0c08&gt;</td>\n",
       "      <td>NaN</td>\n",
       "      <td>NaN</td>\n",
       "      <td>{u'bow__analyzer': &lt;function prepararTweetStem...</td>\n",
       "      <td>4</td>\n",
       "      <td>0.736527</td>\n",
       "      <td>0.996997</td>\n",
       "      <td>0.736527</td>\n",
       "      <td>0.984985</td>\n",
       "      <td>0.753012</td>\n",
       "      <td>0.985030</td>\n",
       "      <td>0.014150</td>\n",
       "      <td>0.007249</td>\n",
       "      <td>0.007763</td>\n",
       "      <td>0.005652</td>\n",
       "    </tr>\n",
       "    <tr>\n",
       "      <th>6</th>\n",
       "      <td>0.304731</td>\n",
       "      <td>0.109122</td>\n",
       "      <td>0.722</td>\n",
       "      <td>0.982009</td>\n",
       "      <td>&lt;function prepararTweet at 0x7f21c37b0758&gt;</td>\n",
       "      <td>NaN</td>\n",
       "      <td>NaN</td>\n",
       "      <td>{u'bow__analyzer': &lt;function prepararTweet at ...</td>\n",
       "      <td>7</td>\n",
       "      <td>0.748503</td>\n",
       "      <td>0.990991</td>\n",
       "      <td>0.682635</td>\n",
       "      <td>0.981982</td>\n",
       "      <td>0.734940</td>\n",
       "      <td>0.973054</td>\n",
       "      <td>0.019538</td>\n",
       "      <td>0.003334</td>\n",
       "      <td>0.028421</td>\n",
       "      <td>0.007323</td>\n",
       "    </tr>\n",
       "  </tbody>\n",
       "</table>\n",
       "</div>"
      ],
      "text/plain": [
       "   mean_fit_time  mean_score_time  mean_test_score  mean_train_score  \\\n",
       "0       2.430151         0.583312            0.796          1.000000   \n",
       "1       4.989888         0.974685            0.784          1.000000   \n",
       "2       9.562292         1.710642            0.780          1.000000   \n",
       "3       0.733169         0.327689            0.728          0.992999   \n",
       "4       0.838254         0.353541            0.740          0.990997   \n",
       "5       0.735337         0.333692            0.742          0.989004   \n",
       "6       0.304731         0.109122            0.722          0.982009   \n",
       "\n",
       "                                 param_bow__analyzer  \\\n",
       "0                                                NaN   \n",
       "1                                                NaN   \n",
       "2                                                NaN   \n",
       "3                                                NaN   \n",
       "4                                                NaN   \n",
       "5  <function prepararTweetStemmer at 0x7f21c37b0c08>   \n",
       "6         <function prepararTweet at 0x7f21c37b0758>   \n",
       "\n",
       "  param_classifier__n_estimators param_tfidf__use_idf  \\\n",
       "0                            200                  NaN   \n",
       "1                            500                  NaN   \n",
       "2                           1000                  NaN   \n",
       "3                            NaN                 True   \n",
       "4                            NaN                False   \n",
       "5                            NaN                  NaN   \n",
       "6                            NaN                  NaN   \n",
       "\n",
       "                                              params  rank_test_score  \\\n",
       "0                 {u'classifier__n_estimators': 200}                1   \n",
       "1                 {u'classifier__n_estimators': 500}                2   \n",
       "2                {u'classifier__n_estimators': 1000}                3   \n",
       "3                          {u'tfidf__use_idf': True}                6   \n",
       "4                         {u'tfidf__use_idf': False}                5   \n",
       "5  {u'bow__analyzer': <function prepararTweetStem...                4   \n",
       "6  {u'bow__analyzer': <function prepararTweet at ...                7   \n",
       "\n",
       "   split0_test_score  split0_train_score  split1_test_score  \\\n",
       "0           0.790419            1.000000           0.784431   \n",
       "1           0.790419            1.000000           0.760479   \n",
       "2           0.772455            1.000000           0.766467   \n",
       "3           0.760479            0.987988           0.706587   \n",
       "4           0.724551            0.993994           0.736527   \n",
       "5           0.736527            0.996997           0.736527   \n",
       "6           0.748503            0.990991           0.682635   \n",
       "\n",
       "   split1_train_score  split2_test_score  split2_train_score  std_fit_time  \\\n",
       "0            1.000000           0.813253            1.000000      0.004272   \n",
       "1            1.000000           0.801205            1.000000      0.064966   \n",
       "2            1.000000           0.801205            1.000000      0.033251   \n",
       "3            0.996997           0.716867            0.994012      0.004788   \n",
       "4            0.984985           0.759036            0.994012      0.081655   \n",
       "5            0.984985           0.753012            0.985030      0.014150   \n",
       "6            0.981982           0.734940            0.973054      0.019538   \n",
       "\n",
       "   std_score_time  std_test_score  std_train_score  \n",
       "0        0.007506        0.012407         0.000000  \n",
       "1        0.015626        0.017228         0.000000  \n",
       "2        0.108110        0.015148         0.000000  \n",
       "3        0.006154        0.023380         0.003747  \n",
       "4        0.037417        0.014285         0.004251  \n",
       "5        0.007249        0.007763         0.005652  \n",
       "6        0.003334        0.028421         0.007323  "
      ]
     },
     "execution_count": 40,
     "metadata": {},
     "output_type": "execute_result"
    }
   ],
   "source": [
    "pd.DataFrame.from_dict(clasificadorRF.cv_results_, orient='columns', dtype=None)"
   ]
  },
  {
   "cell_type": "markdown",
   "metadata": {},
   "source": [
    "Se realiza la clasificación de los datos de prueba para realizar la evaluación del modelo."
   ]
  },
  {
   "cell_type": "code",
   "execution_count": 41,
   "metadata": {},
   "outputs": [],
   "source": [
    "labelPrediccionRF = clasificadorRF.predict(mensajePrueba)"
   ]
  },
  {
   "cell_type": "markdown",
   "metadata": {},
   "source": [
    "Se genera la matriz de confusión con el numero de datos clasificados correcta y erróneamente, el valor de exactitud del clasificador y un reporte detallado."
   ]
  },
  {
   "cell_type": "code",
   "execution_count": 42,
   "metadata": {},
   "outputs": [
    {
     "data": {
      "text/plain": [
       "(191, 52, 43, 214)"
      ]
     },
     "execution_count": 42,
     "metadata": {},
     "output_type": "execute_result"
    }
   ],
   "source": [
    "tn, fp, fn, tp = confusion_matrix(y_true = labelPrueba, y_pred = labelPrediccionRF).ravel()\n",
    "(tn, fp, fn, tp)"
   ]
  },
  {
   "cell_type": "code",
   "execution_count": 43,
   "metadata": {},
   "outputs": [
    {
     "name": "stdout",
     "output_type": "stream",
     "text": [
      "Accuracy score: 0.81\n"
     ]
    }
   ],
   "source": [
    "print('Accuracy score: {}'.format(accuracy_score(labelPrueba, labelPrediccionRF)))"
   ]
  },
  {
   "cell_type": "code",
   "execution_count": 44,
   "metadata": {},
   "outputs": [
    {
     "name": "stdout",
     "output_type": "stream",
     "text": [
      "             precision    recall  f1-score   support\n",
      "\n",
      "    nosiata       0.82      0.79      0.80       243\n",
      "      siata       0.80      0.83      0.82       257\n",
      "\n",
      "avg / total       0.81      0.81      0.81       500\n",
      "\n"
     ]
    }
   ],
   "source": [
    "print classification_report(labelPrueba, labelPrediccionRF)"
   ]
  },
  {
   "cell_type": "markdown",
   "metadata": {},
   "source": [
    "Se serializa y almacena en el disco el clasificador con la mejor combinación de parámetros entrenado y listo para utilizarse."
   ]
  },
  {
   "cell_type": "code",
   "execution_count": 45,
   "metadata": {},
   "outputs": [],
   "source": [
    "with open('modelos/clasificadorRF.pkl', 'wb') as archivoClasificadorRF:\n",
    "    dill.dump(clasificadorRF, archivoClasificadorRF)\n",
    "\n",
    "#clasificadorSVM_carga = dill.load(open('clasificadorSVM.pkl'))"
   ]
  }
 ],
 "metadata": {
  "kernelspec": {
   "display_name": "Python 2",
   "language": "python",
   "name": "python2"
  },
  "language_info": {
   "codemirror_mode": {
    "name": "ipython",
    "version": 2
   },
   "file_extension": ".py",
   "mimetype": "text/x-python",
   "name": "python",
   "nbconvert_exporter": "python",
   "pygments_lexer": "ipython2",
   "version": "2.7.12"
  }
 },
 "nbformat": 4,
 "nbformat_minor": 2
}
